{
 "cells": [
  {
   "cell_type": "code",
   "execution_count": 9,
   "id": "c0c6acc5",
   "metadata": {},
   "outputs": [],
   "source": [
    "def tough(indentation, number):\n",
    "    \n",
    "    # Base case: If number is zero, do nothing and return\n",
    "    if(number > 0):\n",
    "        \n",
    "        # Recursively call the function with half the number (for the upper part)\n",
    "        tough(indentation, number//2);\n",
    "        \n",
    "        # Print the pattern: spaces for indentation and asterisks for the number\n",
    "        print(\" \" * indentation + \"*\" * number);\n",
    "        \n",
    "        # Recursively call the function again with incremented indentation \n",
    "        # (for the lower part, which is indented by one more space)\n",
    "        tough(indentation + 1, number//2);"
   ]
  },
  {
   "cell_type": "code",
   "execution_count": 10,
   "id": "6b806025",
   "metadata": {},
   "outputs": [],
   "source": [
    "tough(0,0)"
   ]
  },
  {
   "cell_type": "code",
   "execution_count": 11,
   "id": "9bb6d9ee",
   "metadata": {},
   "outputs": [
    {
     "name": "stdout",
     "output_type": "stream",
     "text": [
      "*\n"
     ]
    }
   ],
   "source": [
    "tough(0,1)"
   ]
  },
  {
   "cell_type": "code",
   "execution_count": 12,
   "id": "722a3e0d",
   "metadata": {},
   "outputs": [
    {
     "name": "stdout",
     "output_type": "stream",
     "text": [
      "*\n",
      "**\n",
      " *\n"
     ]
    }
   ],
   "source": [
    "tough(0,2)"
   ]
  },
  {
   "cell_type": "code",
   "execution_count": 13,
   "id": "01d7d007",
   "metadata": {},
   "outputs": [
    {
     "name": "stdout",
     "output_type": "stream",
     "text": [
      "*\n",
      "**\n",
      " *\n",
      "****\n",
      " *\n",
      " **\n",
      "  *\n"
     ]
    }
   ],
   "source": [
    "tough(0,4)"
   ]
  },
  {
   "cell_type": "code",
   "execution_count": null,
   "id": "ed7f9887",
   "metadata": {},
   "outputs": [],
   "source": []
  }
 ],
 "metadata": {
  "kernelspec": {
   "display_name": "Python 3 (ipykernel)",
   "language": "python",
   "name": "python3"
  },
  "language_info": {
   "codemirror_mode": {
    "name": "ipython",
    "version": 3
   },
   "file_extension": ".py",
   "mimetype": "text/x-python",
   "name": "python",
   "nbconvert_exporter": "python",
   "pygments_lexer": "ipython3",
   "version": "3.11.7"
  }
 },
 "nbformat": 4,
 "nbformat_minor": 5
}
